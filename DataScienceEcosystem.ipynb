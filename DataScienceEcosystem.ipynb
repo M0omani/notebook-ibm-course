{
 "cells": [
  {
   "cell_type": "markdown",
   "id": "bed704df",
   "metadata": {},
   "source": [
    "# Data Science Tools and Ecosystem"
   ]
  },
  {
   "cell_type": "markdown",
   "id": "f88f6f65",
   "metadata": {},
   "source": [
    "In this notebook, Data Science Tools and Ecosystem are summarized."
   ]
  },
  {
   "cell_type": "markdown",
   "id": "6b31fda4",
   "metadata": {},
   "source": [
    "here are five languages for Data Science:\n",
    "1. Python\n",
    "2. R\n",
    "3. SQL\n",
    "4. Java\n",
    "5. Scala"
   ]
  },
  {
   "cell_type": "markdown",
   "id": "4a5b1feb",
   "metadata": {},
   "source": [
    "Some of the commonly used libraries used by Data Scientists include:\n",
    "\n",
    "    1. Scikit-learn\n",
    "    2. Pandas\n",
    "    3. Matplotlib\n",
    "    4. TensorFlow\n",
    "    5. Apache Spark"
   ]
  },
  {
   "cell_type": "markdown",
   "id": "daaac7d7",
   "metadata": {},
   "source": [
    "|Data Science Tools|\n",
    "|------------------|\n",
    "|Anaconda|\n",
    "|R studio|\n",
    "|Jupyter Notbooks|"
   ]
  },
  {
   "cell_type": "markdown",
   "id": "9b991c00",
   "metadata": {},
   "source": [
    "### Below are a few examples of evaluating arithmetic expressions in Python"
   ]
  },
  {
   "cell_type": "code",
   "execution_count": 9,
   "id": "f2007fbf",
   "metadata": {},
   "outputs": [
    {
     "data": {
      "text/plain": [
       "17"
      ]
     },
     "execution_count": 9,
     "metadata": {},
     "output_type": "execute_result"
    }
   ],
   "source": [
    "# arithemtic expression to mutiply then add integers\n",
    "(3*4)+5"
   ]
  },
  {
   "cell_type": "code",
   "execution_count": 11,
   "id": "60d5a123",
   "metadata": {},
   "outputs": [
    {
     "data": {
      "text/plain": [
       "3.3333333333333335"
      ]
     },
     "execution_count": 11,
     "metadata": {},
     "output_type": "execute_result"
    }
   ],
   "source": [
    "minutes = 200\n",
    "hours = 200/60\n",
    "# This will convert 200 minutes to hours by diving by 60\n",
    "hours"
   ]
  },
  {
   "cell_type": "markdown",
   "id": "c7c6fdf1",
   "metadata": {},
   "source": [
    "# Objectives:\n",
    "1. excel in the field of data science \n",
    "2. start a work as a data scientis \n",
    "3. make my dream projects in the field of data science \n",
    "4. start my own data science company"
   ]
  },
  {
   "cell_type": "markdown",
   "id": "f73a50d6",
   "metadata": {},
   "source": [
    "## Author\n",
    "Hashem Almomani"
   ]
  },
  {
   "cell_type": "code",
   "execution_count": null,
   "id": "31af1f97",
   "metadata": {},
   "outputs": [],
   "source": []
  }
 ],
 "metadata": {
  "kernelspec": {
   "display_name": "Python 3 (ipykernel)",
   "language": "python",
   "name": "python3"
  },
  "language_info": {
   "codemirror_mode": {
    "name": "ipython",
    "version": 3
   },
   "file_extension": ".py",
   "mimetype": "text/x-python",
   "name": "python",
   "nbconvert_exporter": "python",
   "pygments_lexer": "ipython3",
   "version": "3.11.5"
  }
 },
 "nbformat": 4,
 "nbformat_minor": 5
}
